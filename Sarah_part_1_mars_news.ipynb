{
 "cells": [
  {
   "attachments": {},
   "cell_type": "markdown",
   "metadata": {},
   "source": [
    "# Module 11 Challenge\n",
    "## Deliverable 1: Scrape Titles and Preview Text from Mars News"
   ]
  },
  {
   "cell_type": "code",
   "execution_count": 22,
   "metadata": {},
   "outputs": [],
   "source": [
    "# Import necessary libraries\n",
    "from bs4 import BeautifulSoup\n",
    "import pandas as pd\n",
    "from selenium import webdriver\n",
    "from selenium.webdriver.chrome.service import Service\n",
    "from webdriver_manager.chrome import ChromeDriverManager\n",
    "\n",
    "# Set up Selenium WebDriver with WebDriverManager\n",
    "service = Service(ChromeDriverManager().install())\n",
    "driver = webdriver.Chrome(service=service)\n"
   ]
  },
  {
   "attachments": {},
   "cell_type": "markdown",
   "metadata": {},
   "source": [
    "### Step 1: Visit the Website\n",
    "\n",
    "1. Use automated browsing to visit the [Mars news site](https://static.bc-edx.com/data/web/mars_news/index.html). Inspect the page to identify which elements to scrape.\n",
    "\n",
    "      > **Hint** To identify which elements to scrape, you might want to inspect the page by using Chrome DevTools."
   ]
  },
  {
   "cell_type": "code",
   "execution_count": 23,
   "metadata": {},
   "outputs": [],
   "source": [
    "# Visit the Mars news site\n",
    "url = \"https://static.bc-edx.com/data/web/mars_news/index.html\"\n",
    "driver.get(url)  # Correct method for Selenium\n"
   ]
  },
  {
   "attachments": {},
   "cell_type": "markdown",
   "metadata": {},
   "source": [
    "### Step 2: Scrape the Website\n",
    "\n",
    "Create a Beautiful Soup object and use it to extract text elements from the website."
   ]
  },
  {
   "cell_type": "code",
   "execution_count": 24,
   "metadata": {},
   "outputs": [],
   "source": [
    "# Create a Beautiful Soup object\n",
    "html = driver.page_source  # Get the full page source from Selenium\n",
    "soup = BeautifulSoup(html, \"html.parser\")  # Parse HTML with BeautifulSoup\n",
    "\n"
   ]
  },
  {
   "cell_type": "code",
   "execution_count": 25,
   "metadata": {},
   "outputs": [],
   "source": [
    "# Extract article titles\n",
    "titles = [title.text.strip() for title in soup.find_all('div', class_='content_title')]\n",
    "\n",
    "# Extract preview texts\n",
    "previews = [preview.text.strip() for preview in soup.find_all('div', class_='article_teaser_body')]"
   ]
  },
  {
   "attachments": {},
   "cell_type": "markdown",
   "metadata": {},
   "source": [
    "### Step 3: Store the Results\n",
    "\n",
    "Extract the titles and preview text of the news articles that you scraped. Store the scraping results in Python data structures as follows:\n",
    "\n",
    "* Store each title-and-preview pair in a Python dictionary. And, give each dictionary two keys: `title` and `preview`. An example is the following:\n",
    "\n",
    "  ```python\n",
    "  {'title': \"NASA's MAVEN Observes Martian Light Show Caused by Major Solar Storm\", \n",
    "   'preview': \"For the first time in its eight years orbiting Mars, NASA’s MAVEN mission witnessed two different types of ultraviolet aurorae simultaneously, the result of solar storms that began on Aug. 27.\"\n",
    "  }\n",
    "  ```\n",
    "\n",
    "* Store all the dictionaries in a Python list.\n",
    "\n",
    "* Print the list in your notebook."
   ]
  },
  {
   "cell_type": "code",
   "execution_count": 26,
   "metadata": {},
   "outputs": [],
   "source": [
    "# Create an empty list to store dictionaries\n",
    "mars_articles = []"
   ]
  },
  {
   "cell_type": "code",
   "execution_count": 27,
   "metadata": {},
   "outputs": [
    {
     "name": "stdout",
     "output_type": "stream",
     "text": [
      "{'title': \"NASA's MAVEN Observes Martian Light Show Caused by Major Solar Storm\", 'preview': 'For the first time in its eight years orbiting Mars, NASA’s MAVEN mission witnessed two different types of ultraviolet aurorae simultaneously, the result of solar storms that began on Aug. 27.'}\n",
      "{'title': \"NASA Prepares to Say 'Farewell' to InSight Spacecraft\", 'preview': 'A closer look at what goes into wrapping up the mission as the spacecraft’s power supply continues to dwindle.'}\n",
      "{'title': 'NASA and ESA Agree on Next Steps to Return Mars Samples to Earth', 'preview': 'The agency’s Perseverance rover will establish the first sample depot on Mars.'}\n",
      "{'title': \"NASA's InSight Lander Detects Stunning Meteoroid Impact on Mars\", 'preview': 'The agency’s lander felt the ground shake during the impact while cameras aboard the Mars Reconnaissance Orbiter spotted the yawning new crater from space.'}\n",
      "{'title': 'NASA To Host Briefing on InSight, Mars Reconnaissance Orbiter Findings', 'preview': 'Scientists from two Mars missions will discuss how they combined images and data for a major finding on the Red Planet.'}\n"
     ]
    }
   ],
   "source": [
    "# Loop through extracted titles and previews\n",
    "for title, preview in zip(titles, previews):\n",
    "    article_dict = {\"title\": title, \"preview\": preview}\n",
    "    mars_articles.append(article_dict)\n",
    "\n",
    "# Print the first few articles to verify\n",
    "for article in mars_articles[:5]:  \n",
    "    print(article)\n"
   ]
  },
  {
   "cell_type": "code",
   "execution_count": 28,
   "metadata": {},
   "outputs": [],
   "source": [
    "# Convert list of dictionaries to a Pandas DataFrame\n",
    "mars_news_df = pd.DataFrame(mars_articles)"
   ]
  },
  {
   "cell_type": "code",
   "execution_count": 29,
   "metadata": {},
   "outputs": [
    {
     "data": {
      "text/html": [
       "<div>\n",
       "<style scoped>\n",
       "    .dataframe tbody tr th:only-of-type {\n",
       "        vertical-align: middle;\n",
       "    }\n",
       "\n",
       "    .dataframe tbody tr th {\n",
       "        vertical-align: top;\n",
       "    }\n",
       "\n",
       "    .dataframe thead th {\n",
       "        text-align: right;\n",
       "    }\n",
       "</style>\n",
       "<table border=\"1\" class=\"dataframe\">\n",
       "  <thead>\n",
       "    <tr style=\"text-align: right;\">\n",
       "      <th></th>\n",
       "      <th>title</th>\n",
       "      <th>preview</th>\n",
       "    </tr>\n",
       "  </thead>\n",
       "  <tbody>\n",
       "    <tr>\n",
       "      <th>0</th>\n",
       "      <td>NASA's MAVEN Observes Martian Light Show Cause...</td>\n",
       "      <td>For the first time in its eight years orbiting...</td>\n",
       "    </tr>\n",
       "    <tr>\n",
       "      <th>1</th>\n",
       "      <td>NASA Prepares to Say 'Farewell' to InSight Spa...</td>\n",
       "      <td>A closer look at what goes into wrapping up th...</td>\n",
       "    </tr>\n",
       "    <tr>\n",
       "      <th>2</th>\n",
       "      <td>NASA and ESA Agree on Next Steps to Return Mar...</td>\n",
       "      <td>The agency’s Perseverance rover will establish...</td>\n",
       "    </tr>\n",
       "    <tr>\n",
       "      <th>3</th>\n",
       "      <td>NASA's InSight Lander Detects Stunning Meteoro...</td>\n",
       "      <td>The agency’s lander felt the ground shake duri...</td>\n",
       "    </tr>\n",
       "    <tr>\n",
       "      <th>4</th>\n",
       "      <td>NASA To Host Briefing on InSight, Mars Reconna...</td>\n",
       "      <td>Scientists from two Mars missions will discuss...</td>\n",
       "    </tr>\n",
       "    <tr>\n",
       "      <th>5</th>\n",
       "      <td>Why NASA Is Trying To Crash Land on Mars</td>\n",
       "      <td>Like a car’s crumple zone, the experimental SH...</td>\n",
       "    </tr>\n",
       "    <tr>\n",
       "      <th>6</th>\n",
       "      <td>Curiosity Mars Rover Reaches Long-Awaited Salt...</td>\n",
       "      <td>After years of climbing, the Mars rover has ar...</td>\n",
       "    </tr>\n",
       "    <tr>\n",
       "      <th>7</th>\n",
       "      <td>Mars Mission Shields Up for Tests</td>\n",
       "      <td>Protecting Mars Sample Return spacecraft from ...</td>\n",
       "    </tr>\n",
       "    <tr>\n",
       "      <th>8</th>\n",
       "      <td>NASA's InSight Waits Out Dust Storm</td>\n",
       "      <td>InSight’s team is taking steps to help the sol...</td>\n",
       "    </tr>\n",
       "    <tr>\n",
       "      <th>9</th>\n",
       "      <td>NASA's InSight 'Hears' Its First Meteoroid Imp...</td>\n",
       "      <td>The Mars lander’s seismometer has picked up vi...</td>\n",
       "    </tr>\n",
       "    <tr>\n",
       "      <th>10</th>\n",
       "      <td>NASA's Perseverance Rover Investigates Geologi...</td>\n",
       "      <td>The latest findings provide greater detail on ...</td>\n",
       "    </tr>\n",
       "    <tr>\n",
       "      <th>11</th>\n",
       "      <td>NASA to Host Briefing on Perseverance Mars Rov...</td>\n",
       "      <td>Members of the mission will discuss the rover’...</td>\n",
       "    </tr>\n",
       "    <tr>\n",
       "      <th>12</th>\n",
       "      <td>NASA's Perseverance Makes New Discoveries in M...</td>\n",
       "      <td>The rover found that Jezero Crater’s floor is ...</td>\n",
       "    </tr>\n",
       "    <tr>\n",
       "      <th>13</th>\n",
       "      <td>10 Years Since Landing, NASA's Curiosity Mars ...</td>\n",
       "      <td>Despite signs of wear, the intrepid spacecraft...</td>\n",
       "    </tr>\n",
       "    <tr>\n",
       "      <th>14</th>\n",
       "      <td>SAM's Top 5 Discoveries Aboard NASA's Curiosit...</td>\n",
       "      <td>“Selfie” of the Curiosity rover with inset sho...</td>\n",
       "    </tr>\n",
       "  </tbody>\n",
       "</table>\n",
       "</div>"
      ],
      "text/plain": [
       "                                                title  \\\n",
       "0   NASA's MAVEN Observes Martian Light Show Cause...   \n",
       "1   NASA Prepares to Say 'Farewell' to InSight Spa...   \n",
       "2   NASA and ESA Agree on Next Steps to Return Mar...   \n",
       "3   NASA's InSight Lander Detects Stunning Meteoro...   \n",
       "4   NASA To Host Briefing on InSight, Mars Reconna...   \n",
       "5            Why NASA Is Trying To Crash Land on Mars   \n",
       "6   Curiosity Mars Rover Reaches Long-Awaited Salt...   \n",
       "7                   Mars Mission Shields Up for Tests   \n",
       "8                 NASA's InSight Waits Out Dust Storm   \n",
       "9   NASA's InSight 'Hears' Its First Meteoroid Imp...   \n",
       "10  NASA's Perseverance Rover Investigates Geologi...   \n",
       "11  NASA to Host Briefing on Perseverance Mars Rov...   \n",
       "12  NASA's Perseverance Makes New Discoveries in M...   \n",
       "13  10 Years Since Landing, NASA's Curiosity Mars ...   \n",
       "14  SAM's Top 5 Discoveries Aboard NASA's Curiosit...   \n",
       "\n",
       "                                              preview  \n",
       "0   For the first time in its eight years orbiting...  \n",
       "1   A closer look at what goes into wrapping up th...  \n",
       "2   The agency’s Perseverance rover will establish...  \n",
       "3   The agency’s lander felt the ground shake duri...  \n",
       "4   Scientists from two Mars missions will discuss...  \n",
       "5   Like a car’s crumple zone, the experimental SH...  \n",
       "6   After years of climbing, the Mars rover has ar...  \n",
       "7   Protecting Mars Sample Return spacecraft from ...  \n",
       "8   InSight’s team is taking steps to help the sol...  \n",
       "9   The Mars lander’s seismometer has picked up vi...  \n",
       "10  The latest findings provide greater detail on ...  \n",
       "11  Members of the mission will discuss the rover’...  \n",
       "12  The rover found that Jezero Crater’s floor is ...  \n",
       "13  Despite signs of wear, the intrepid spacecraft...  \n",
       "14  “Selfie” of the Curiosity rover with inset sho...  "
      ]
     },
     "metadata": {},
     "output_type": "display_data"
    }
   ],
   "source": [
    "# Display the DataFrame in Jupyter Notebook\n",
    "display(mars_news_df)"
   ]
  },
  {
   "cell_type": "code",
   "execution_count": 30,
   "metadata": {},
   "outputs": [],
   "source": [
    "# Close the browser\n",
    "driver.quit()"
   ]
  },
  {
   "cell_type": "code",
   "execution_count": null,
   "id": "d011d4cb",
   "metadata": {},
   "outputs": [],
   "source": []
  },
  {
   "cell_type": "code",
   "execution_count": null,
   "id": "8bcdd228",
   "metadata": {},
   "outputs": [],
   "source": []
  },
  {
   "cell_type": "code",
   "execution_count": null,
   "id": "92aeaa46",
   "metadata": {},
   "outputs": [],
   "source": []
  },
  {
   "cell_type": "code",
   "execution_count": null,
   "id": "05b9e762",
   "metadata": {},
   "outputs": [],
   "source": []
  }
 ],
 "metadata": {
  "kernelspec": {
   "display_name": "dev",
   "language": "python",
   "name": "python3"
  },
  "language_info": {
   "codemirror_mode": {
    "name": "ipython",
    "version": 3
   },
   "file_extension": ".py",
   "mimetype": "text/x-python",
   "name": "python",
   "nbconvert_exporter": "python",
   "pygments_lexer": "ipython3",
   "version": "3.10.16"
  }
 },
 "nbformat": 4,
 "nbformat_minor": 4
}
