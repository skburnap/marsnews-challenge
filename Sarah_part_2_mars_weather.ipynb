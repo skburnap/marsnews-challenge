{
 "cells": [
  {
   "attachments": {},
   "cell_type": "markdown",
   "metadata": {},
   "source": [
    "# Module 11 Challenge\n",
    "## Deliverable 2: Scrape and Analyze Mars Weather Data"
   ]
  },
  {
   "cell_type": "code",
   "execution_count": 103,
   "metadata": {},
   "outputs": [],
   "source": [
    "# Import relevant libraries\n",
    "from bs4 import BeautifulSoup\n",
    "import pandas as pd\n",
    "from selenium import webdriver\n",
    "from selenium.webdriver.chrome.service import Service\n",
    "from webdriver_manager.chrome import ChromeDriverManager\n",
    "\n",
    "# ✅ Initialize the Selenium WebDriver\n",
    "service = Service(ChromeDriverManager().install())\n",
    "driver = webdriver.Chrome(service=service)"
   ]
  },
  {
   "cell_type": "code",
   "execution_count": 104,
   "metadata": {},
   "outputs": [],
   "source": [
    "browser = Browser('chrome')"
   ]
  },
  {
   "attachments": {},
   "cell_type": "markdown",
   "metadata": {},
   "source": [
    "### Step 1: Visit the Website\n",
    "\n",
    "Use automated browsing to visit the [Mars Temperature Data Site](https://static.bc-edx.com/data/web/mars_facts/temperature.html). Inspect the page to identify which elements to scrape.\n",
    "\n",
    "   > **Hint** To identify which elements to scrape, you might want to inspect the page by using Chrome DevTools to discover whether the table contains usable classes.\n"
   ]
  },
  {
   "cell_type": "code",
   "execution_count": 105,
   "metadata": {},
   "outputs": [],
   "source": [
    "# Visit the Mars temperature webpage\n",
    "url = \"https://static.bc-edx.com/data/web/mars_facts/temperature.html\"\n",
    "driver.get(url)  # Use Selenium's .get() instead of Splinter's .visit()\n"
   ]
  },
  {
   "attachments": {},
   "cell_type": "markdown",
   "metadata": {},
   "source": [
    "### Step 2: Scrape the Table\n",
    "\n",
    "Create a Beautiful Soup object and use it to scrape the data in the HTML table.\n",
    "\n",
    "Note that this can also be achieved by using the Pandas `read_html` function. However, use Beautiful Soup here to continue sharpening your web scraping skills."
   ]
  },
  {
   "cell_type": "code",
   "execution_count": 106,
   "metadata": {},
   "outputs": [
    {
     "name": "stdout",
     "output_type": "stream",
     "text": [
      "✅ BeautifulSoup successfully parsed the page.\n"
     ]
    }
   ],
   "source": [
    "# ✅ Parse the HTML page with BeautifulSoup\n",
    "html = driver.page_source  # Get the full page source from Selenium\n",
    "soup = BeautifulSoup(html, \"html.parser\")  # Parse HTML with BeautifulSoup\n",
    "\n",
    "# ✅ Verify if the page was loaded correctly\n",
    "if soup:\n",
    "    print(\"✅ BeautifulSoup successfully parsed the page.\")\n",
    "else:\n",
    "    print(\"⚠️ Warning: BeautifulSoup could not parse the page.\")"
   ]
  },
  {
   "cell_type": "code",
   "execution_count": 107,
   "metadata": {},
   "outputs": [
    {
     "name": "stdout",
     "output_type": "stream",
     "text": [
      "✅ Table found! Extracting data...\n"
     ]
    },
    {
     "name": "stderr",
     "output_type": "stream",
     "text": [
      "C:\\Users\\drago\\AppData\\Local\\Temp\\ipykernel_34424\\449663559.py:7: FutureWarning: Passing literal html to 'read_html' is deprecated and will be removed in a future version. To read from a literal string, wrap it in a 'StringIO' object.\n",
      "  mars_weather_df = pd.read_html(str(table))[0]  # Convert HTML table to DataFrame\n"
     ]
    }
   ],
   "source": [
    "# ✅ Extract the table from the webpage\n",
    "table = soup.find(\"table\", class_=\"table\")\n",
    "\n",
    "# ✅ Verify if the table exists before proceeding\n",
    "if table:\n",
    "    print(\"✅ Table found! Extracting data...\")\n",
    "    mars_weather_df = pd.read_html(str(table))[0]  # Convert HTML table to DataFrame\n",
    "\n",
    " \n",
    "else:\n",
    "    print(\"⚠️ Warning: Table not found! Check the webpage structure.\")"
   ]
  },
  {
   "attachments": {},
   "cell_type": "markdown",
   "metadata": {},
   "source": [
    "### Step 3: Store the Data\n",
    "\n",
    "Assemble the scraped data into a Pandas DataFrame. The columns should have the same headings as the table on the website. Here’s an explanation of the column headings:\n",
    "\n",
    "* `id`: the identification number of a single transmission from the Curiosity rover\n",
    "* `terrestrial_date`: the date on Earth\n",
    "* `sol`: the number of elapsed sols (Martian days) since Curiosity landed on Mars\n",
    "* `ls`: the solar longitude\n",
    "* `month`: the Martian month\n",
    "* `min_temp`: the minimum temperature, in Celsius, of a single Martian day (sol)\n",
    "* `pressure`: The atmospheric pressure at Curiosity's location"
   ]
  },
  {
   "cell_type": "code",
   "execution_count": 108,
   "metadata": {},
   "outputs": [
    {
     "name": "stdout",
     "output_type": "stream",
     "text": [
      "[{'id': 2, 'terrestrial_date': '2012-08-16', 'sol': 10, 'ls': 155, 'month': 6, 'min_temp': -75.0, 'pressure': 739.0}, {'id': 13, 'terrestrial_date': '2012-08-17', 'sol': 11, 'ls': 156, 'month': 6, 'min_temp': -76.0, 'pressure': 740.0}, {'id': 24, 'terrestrial_date': '2012-08-18', 'sol': 12, 'ls': 156, 'month': 6, 'min_temp': -76.0, 'pressure': 741.0}, {'id': 35, 'terrestrial_date': '2012-08-19', 'sol': 13, 'ls': 157, 'month': 6, 'min_temp': -74.0, 'pressure': 732.0}, {'id': 46, 'terrestrial_date': '2012-08-20', 'sol': 14, 'ls': 157, 'month': 6, 'min_temp': -74.0, 'pressure': 740.0}]\n"
     ]
    }
   ],
   "source": [
    "# ✅ Rename columns to match the required structure\n",
    "if table:\n",
    "    mars_weather_df.columns = [\"id\", \"terrestrial_date\", \"sol\", \"ls\", \"month\", \"min_temp\", \"pressure\"]\n",
    "\n",
    "    # ✅ Create a list of dictionaries (rows)\n",
    "    mars_weather_list = mars_weather_df.to_dict(orient='records')\n",
    "\n",
    "    # ✅ Print a sample of the stored data\n",
    "    print(mars_weather_list[:5])  # Display first 5 rows as dictionaries\n",
    "\n",
    "else:\n",
    "    print(\"⚠️ Warning: Table not found! Check the webpage structure.\")\n"
   ]
  },
  {
   "cell_type": "code",
   "execution_count": 109,
   "metadata": {},
   "outputs": [
    {
     "name": "stdout",
     "output_type": "stream",
     "text": [
      "✅ Table found! Extracting data...\n"
     ]
    },
    {
     "ename": "NameError",
     "evalue": "name 'StringIO' is not defined",
     "output_type": "error",
     "traceback": [
      "\u001b[1;31m---------------------------------------------------------------------------\u001b[0m",
      "\u001b[1;31mNameError\u001b[0m                                 Traceback (most recent call last)",
      "Cell \u001b[1;32mIn[109], line 6\u001b[0m\n\u001b[0;32m      3\u001b[0m \u001b[38;5;28mprint\u001b[39m(\u001b[38;5;124m\"\u001b[39m\u001b[38;5;124m✅ Table found! Extracting data...\u001b[39m\u001b[38;5;124m\"\u001b[39m)\n\u001b[0;32m      5\u001b[0m \u001b[38;5;66;03m# ✅ Convert the table to a DataFrame\u001b[39;00m\n\u001b[1;32m----> 6\u001b[0m mars_weather_df \u001b[38;5;241m=\u001b[39m pd\u001b[38;5;241m.\u001b[39mread_html(\u001b[43mStringIO\u001b[49m(\u001b[38;5;28mstr\u001b[39m(table)))[\u001b[38;5;241m0\u001b[39m]  \n\u001b[0;32m      8\u001b[0m \u001b[38;5;66;03m# ✅ Rename columns to match the required structure\u001b[39;00m\n\u001b[0;32m      9\u001b[0m mars_weather_df\u001b[38;5;241m.\u001b[39mcolumns \u001b[38;5;241m=\u001b[39m [\u001b[38;5;124m\"\u001b[39m\u001b[38;5;124mid\u001b[39m\u001b[38;5;124m\"\u001b[39m, \u001b[38;5;124m\"\u001b[39m\u001b[38;5;124mterrestrial_date\u001b[39m\u001b[38;5;124m\"\u001b[39m, \u001b[38;5;124m\"\u001b[39m\u001b[38;5;124msol\u001b[39m\u001b[38;5;124m\"\u001b[39m, \u001b[38;5;124m\"\u001b[39m\u001b[38;5;124mls\u001b[39m\u001b[38;5;124m\"\u001b[39m, \u001b[38;5;124m\"\u001b[39m\u001b[38;5;124mmonth\u001b[39m\u001b[38;5;124m\"\u001b[39m, \u001b[38;5;124m\"\u001b[39m\u001b[38;5;124mmin_temp\u001b[39m\u001b[38;5;124m\"\u001b[39m, \u001b[38;5;124m\"\u001b[39m\u001b[38;5;124mpressure\u001b[39m\u001b[38;5;124m\"\u001b[39m]\n",
      "\u001b[1;31mNameError\u001b[0m: name 'StringIO' is not defined"
     ]
    }
   ],
   "source": [
    "# ✅ Verify if the table exists before proceeding\n",
    "if table:\n",
    "    print(\"✅ Table found! Extracting data...\")\n",
    "\n",
    "    # ✅ Convert the table to a DataFrame\n",
    "    mars_weather_df = pd.read_html(StringIO(str(table)))[0]  \n",
    "\n",
    "    # ✅ Rename columns to match the required structure\n",
    "    mars_weather_df.columns = [\"id\", \"terrestrial_date\", \"sol\", \"ls\", \"month\", \"min_temp\", \"pressure\"]\n",
    "\n",
    "    # ✅ Convert data types\n",
    "    mars_weather_df[\"id\"] = mars_weather_df[\"id\"].astype(int)\n",
    "    mars_weather_df[\"terrestrial_date\"] = pd.to_datetime(mars_weather_df[\"terrestrial_date\"])\n",
    "    mars_weather_df[\"sol\"] = mars_weather_df[\"sol\"].astype(int)\n",
    "    mars_weather_df[\"ls\"] = mars_weather_df[\"ls\"].astype(float)\n",
    "    mars_weather_df[\"month\"] = mars_weather_df[\"month\"].astype(int)\n",
    "    mars_weather_df[\"min_temp\"] = mars_weather_df[\"min_temp\"].astype(float)\n",
    "    mars_weather_df[\"pressure\"] = mars_weather_df[\"pressure\"].astype(float)\n",
    "\n",
    "    # ✅ Create a list of dictionaries (rows)\n",
    "    mars_weather_list = mars_weather_df.to_dict(orient='records')\n",
    "\n",
    "    # ✅ Create a DataFrame from the list\n",
    "    mars_weather_df = pd.DataFrame(mars_weather_list, columns=[\"id\", \"terrestrial_date\", \"sol\", \"ls\", \"month\", \"min_temp\", \"pressure\"])\n",
    "\n",
    "    # ✅ Print a sample of the stored data\n",
    "    print(mars_weather_list[:5])  # Display first 5 rows as dictionaries\n",
    "\n",
    "else:\n",
    "    print(\"⚠️ Warning: Table not found! Check the webpage structure.\")\n"
   ]
  },
  {
   "cell_type": "code",
   "execution_count": null,
   "metadata": {},
   "outputs": [],
   "source": [
    "    # ✅ Confirm DataFrame was created successfully\n",
    "    print(\"✅ Mars Weather DataFrame created successfully!\")\n",
    "    print(mars_weather_df.info())  # Display DataFrame structure\n",
    "    print(mars_weather_df.head())  # Display first few rows"
   ]
  },
  {
   "attachments": {},
   "cell_type": "markdown",
   "metadata": {},
   "source": [
    "### Step 4: Prepare Data for Analysis\n",
    "\n",
    "Examine the data types that are currently associated with each column. If necessary, cast (or convert) the data to the appropriate `datetime`, `int`, or `float` data types.\n",
    "\n",
    "  > **Hint** You can use the Pandas `astype` and `to_datetime` methods to accomplish this task.\n"
   ]
  },
  {
   "cell_type": "code",
   "execution_count": null,
   "metadata": {},
   "outputs": [],
   "source": [
    "# ✅ Examine data type of each column\n",
    "print(\"\\n🔍 Data Types:\\n\", mars_weather_df.dtypes)\n",
    "\n",
    "# ✅ Count missing values in each column\n",
    "print(\"\\n⚠️ Missing Values:\\n\", mars_weather_df.isnull().sum())\n",
    "\n",
    "# ✅ Summary statistics to verify correctness\n",
    "print(\"\\n📊 Summary Statistics:\\n\", mars_weather_df.describe())\n"
   ]
  },
  {
   "cell_type": "code",
   "execution_count": null,
   "metadata": {},
   "outputs": [],
   "source": [
    " # ✅ Convert data types for analysis\n",
    "    mars_weather_df[\"id\"] = mars_weather_df[\"id\"].astype(int)\n",
    "    mars_weather_df[\"terrestrial_date\"] = pd.to_datetime(mars_weather_df[\"terrestrial_date\"])\n",
    "    mars_weather_df[\"sol\"] = mars_weather_df[\"sol\"].astype(int)\n",
    "    mars_weather_df[\"ls\"] = mars_weather_df[\"ls\"].astype(float)\n",
    "    mars_weather_df[\"month\"] = mars_weather_df[\"month\"].astype(int)\n",
    "    mars_weather_df[\"min_temp\"] = mars_weather_df[\"min_temp\"].astype(float)\n",
    "    mars_weather_df[\"pressure\"] = mars_weather_df[\"pressure\"].astype(float)\n"
   ]
  },
  {
   "cell_type": "code",
   "execution_count": null,
   "metadata": {},
   "outputs": [],
   "source": [
    "# Confirm type changes were successful by examining data types again\n",
    "print(\"🔍 Confirming Data Type Changes:\")\n",
    "print(mars_weather_df.dtypes)\n"
   ]
  },
  {
   "attachments": {},
   "cell_type": "markdown",
   "metadata": {},
   "source": [
    "### Step 5: Analyze the Data\n",
    "\n",
    "Analyze your dataset by using Pandas functions to answer the following questions:\n",
    "\n",
    "1. How many months exist on Mars?\n",
    "2. How many Martian (and not Earth) days worth of data exist in the scraped dataset?\n",
    "3. What are the coldest and the warmest months on Mars (at the location of Curiosity)? To answer this question:\n",
    "    * Find the average the minimum daily temperature for all of the months.\n",
    "    * Plot the results as a bar chart.\n",
    "4. Which months have the lowest and the highest atmospheric pressure on Mars? To answer this question:\n",
    "    * Find the average the daily atmospheric pressure of all the months.\n",
    "    * Plot the results as a bar chart.\n",
    "5. About how many terrestrial (Earth) days exist in a Martian year? To answer this question:\n",
    "    * Consider how many days elapse on Earth in the time that Mars circles the Sun once.\n",
    "    * Visually estimate the result by plotting the daily minimum temperature.\n"
   ]
  },
  {
   "cell_type": "code",
   "execution_count": null,
   "metadata": {},
   "outputs": [],
   "source": [
    " # 1. How many months exist on Mars?\n",
    "    num_mars_months = mars_weather_df[\"month\"].nunique()\n",
    "    print(f\"🔢 Number of months on Mars: {num_mars_months}\")"
   ]
  },
  {
   "cell_type": "code",
   "execution_count": null,
   "metadata": {},
   "outputs": [],
   "source": [
    "# 2. How many Martian days of data exist?\n",
    "    num_martian_days = mars_weather_df[\"sol\"].nunique()\n",
    "    print(f\"📅 Number of Martian days recorded: {num_martian_days}\")\n",
    "    "
   ]
  },
  {
   "cell_type": "code",
   "execution_count": null,
   "metadata": {},
   "outputs": [],
   "source": [
    "    # 3. Coldest and Warmest Months\n",
    "    avg_temp_per_month = mars_weather_df.groupby(\"month\")[\"min_temp\"].mean()\n",
    "    avg_temp_per_month.plot(kind='bar', figsize=(10,5), color='blue')\n",
    "    plt.xlabel(\"Month\")\n",
    "    plt.ylabel(\"Average Minimum Temperature (°C)\")\n",
    "    plt.title(\"Average Minimum Temperature per Martian Month\")\n",
    "    plt.show()"
   ]
  },
  {
   "cell_type": "code",
   "execution_count": null,
   "metadata": {},
   "outputs": [],
   "source": [
    "    # 4. Lowest and Highest Atmospheric Pressure Months\n",
    "    avg_pressure_per_month = mars_weather_df.groupby(\"month\")[\"pressure\"].mean()\n",
    "    avg_pressure_per_month.plot(kind='bar', figsize=(10,5), color='red')\n",
    "    plt.xlabel(\"Month\")\n",
    "    plt.ylabel(\"Average Atmospheric Pressure (Pa)\")\n",
    "    plt.title(\"Average Atmospheric Pressure per Martian Month\")\n",
    "    plt.show()"
   ]
  },
  {
   "cell_type": "code",
   "execution_count": null,
   "metadata": {},
   "outputs": [],
   "source": [
    "    # 5. Number of Earth Days in a Martian Year\n",
    "    plt.figure(figsize=(10,5))\n",
    "    plt.plot(mars_weather_df[\"sol\"], mars_weather_df[\"min_temp\"], marker='o', linestyle='-', color='purple')\n",
    "    plt.xlabel(\"Sol (Martian Days)\")\n",
    "    plt.ylabel(\"Minimum Temperature (°C)\")\n",
    "    plt.title(\"Daily Minimum Temperature Variation Over Time\")\n",
    "    plt.show()"
   ]
  },
  {
   "attachments": {},
   "cell_type": "markdown",
   "metadata": {},
   "source": [
    "#### Minimum Temperature\n",
    "\n",
    "YOUR ANALYSIS HERE"
   ]
  },
  {
   "attachments": {},
   "cell_type": "markdown",
   "metadata": {},
   "source": [
    "#### Atmospheric Pressure\n",
    "\n",
    "YOUR ANALYSIS HERE"
   ]
  },
  {
   "attachments": {},
   "cell_type": "markdown",
   "metadata": {},
   "source": [
    "#### Year Length\n",
    "\n",
    "YOUR ANALYSIS HERE"
   ]
  },
  {
   "attachments": {},
   "cell_type": "markdown",
   "metadata": {},
   "source": [
    "### Step 6: Save the Data\n",
    "\n",
    "Export the DataFrame to a CSV file."
   ]
  },
  {
   "cell_type": "code",
   "execution_count": null,
   "metadata": {},
   "outputs": [],
   "source": [
    "# Write the data to a CSV\n"
   ]
  },
  {
   "cell_type": "code",
   "execution_count": null,
   "metadata": {},
   "outputs": [],
   "source": [
    "browser.quit()"
   ]
  }
 ],
 "metadata": {
  "kernelspec": {
   "display_name": "dev",
   "language": "python",
   "name": "python3"
  },
  "language_info": {
   "codemirror_mode": {
    "name": "ipython",
    "version": 3
   },
   "file_extension": ".py",
   "mimetype": "text/x-python",
   "name": "python",
   "nbconvert_exporter": "python",
   "pygments_lexer": "ipython3",
   "version": "3.10.16"
  }
 },
 "nbformat": 4,
 "nbformat_minor": 4
}
